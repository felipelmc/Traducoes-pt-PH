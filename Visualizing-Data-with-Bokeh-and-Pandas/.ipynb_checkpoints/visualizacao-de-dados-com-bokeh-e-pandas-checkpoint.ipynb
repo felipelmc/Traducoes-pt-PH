{
 "cells": [
  {
   "cell_type": "markdown",
   "metadata": {},
   "source": [
    "# LEMBRAR DE REVISAR TUDO E TRADUZIR TAMBÉM O JUPYTER NOTEBOOK TAMBÉM"
   ]
  },
  {
   "cell_type": "markdown",
   "metadata": {},
   "source": [
    "---\n",
    "title: Visualização de dados com Bokeh e Pandas\n",
    "layout: lesson\n",
    "slug: visualizacao-de-dados-com-bokeh-e-pandas\n",
    "date: 2012-07-17\n",
    "translation_date: 2018-07-27\n",
    "authors:\n",
    "- Charlie Harper\n",
    "reviewers:\n",
    "- Zoe LeBlanc\n",
    "- Ben Schmidt\n",
    "editors:\n",
    "- James Baker\n",
    "- Ian Milligan\n",
    "translator:\n",
    "- Felipe Lamarca\n",
    "translation-editor:\n",
    "- \n",
    "translation-reviewer:\n",
    "- \n",
    "difficulty: 2\n",
    "review-ticket: \n",
    "activity: análise\n",
    "topics: [python, data-manipulation, mapping]\n",
    "abstract: \"Nesta lição você aprenderá a explorar e apresentar dados visualmente em Python utilizando as bibliotecas Bokeh e Pandas.\"\n",
    "redirect_from: \n",
    "original: visualizing-with-bokeh\n",
    "avatar_alt: Men with torches in an antique tomb\n",
    "---\n"
   ]
  },
  {
   "cell_type": "markdown",
   "metadata": {},
   "source": [
    "# Sumário\n",
    "\n",
    "{% include toc.html %}"
   ]
  },
  {
   "cell_type": "markdown",
   "metadata": {},
   "source": [
    "# Visão geral\n",
    "\n",
    "A capacidade de carregar dados brutos, amostrá-los e, em seguida, explorar e apresentá-los visualmente é uma habilidade valiosa entre as disciplinas. Neste tutorial, você aprenderá como fazer isso em Python utilizando as bibliotecas Bokeh e Pandas. Mais especificamente, trabalharemos visualizando e explorando aspectos dos bombardeiros da Segunda Guerra Mundial conduzidos por potências Aliadas.\n",
    "\n",
    "Ao final dessa lição, você será capaz de:\n",
    "\n",
    "- Carregar dados tabulares do formato CSV;\n",
    "- Performar o básico de manipulação de dados, tal como agregar e sub-amostrar dados brutos;\n",
    "- Visualizar dados quantitativos, categóricos e geográficos para exibição na web;\n",
    "- Adicionar diversos tipos de interação às suas visualizações;\n",
    "\n",
    "Para alcançar esses objetivos, trabalharemos com uma variedade de exemplos de visualização usando THOR, dataset (conjunto de dados) que descreve as operações históricas de bombardeio.\n",
    "\n",
    "## O Dataset THOR sobre a Segunda Guerra Mundial\n",
    "\n",
    "O Theatre History of Operations (THOR) lista as operações de bombardeio aéreo durante a Primeira Guerra Mundial, a Segunda Guerra Mundial, a Guerra da Coréia e a Guerra do Vietnã realizadas pelos Estados Unidos e pelas potências aliadas. Os registros foram compilados a partir de documentos liberados pelo tenente-coronel Jenns Robertson. O THOR é disponibilizado ao público por meio de uma parceria entre o Departamento de Defesa dos Estados Unidos e o [data.world](https://data.world/datamil).\n",
    "\n",
    "Cada linha do dataset THOR contém informações sobre uma única missão ou operação de bombardeio. Essas informações podem incluir a data da missão, decolagem e localização do alvo, o tipo de alvo, aeronave envolvida e os tipos e pesos das bombas lançadas no alvo. A [documentação do THOR](https://data.world/datamil/thor-data-dictionary) oferece informações detalhadas sobre a estrutura do dataset.\n",
    "\n",
    "Para esse tutorial, utilizaremos uma versão modificada do dataset THOR sobre a Segunda Guerra Mundial. A versão original consiste em 62 colunas de informações digitalizadas a partir dos formulários. Para tornar esse dataset mais manejável para os nossos propósitos, a versão que utilizaremos foi reduzida a 19 colunas que incluem as informações principais sobre as missões e os dados de bombardeio. Essas colunas são discutidas abaixo quando carregarmos os dados pela primeira vez. O conjunto de dados completo está disponível para download [aqui](https://data.world/datamil/world-war-ii-thor-data).\n",
    "\n",
    "O dataset utilizado nesse tutorial pode ser encontrado em [thor_wwii.csv](https://raw.githubusercontent.com/programminghistorian/ph-submissions/gh-pages/assets/visualizing-with-bokeh/thor_wwii.csv). Este ficheiro é necessário para completar a maioria dos exemplos abaixo.\n",
    "\n",
    "Utilizaremos Bokeh e Pandas para responder algumas das perguntas a seguir:\n",
    "\n",
    "- Quais os tipos e pesos das munições que foram lançadas durante a Segunda Guerra Mundial? Quais padrões podemos discernir no uso de diferentes tipos de munições?\n",
    "- De que modo os tipos e pesos das munições lançadas mudam no decorrer da Segunda Guerra Mundial? Como essas mudanças correspondem a eventos militares mais gerais?\n",
    "- Em quais alvos as munições foram lançadas durante a guerra? Foram determinados tipos de munições limitados a certos teatros de operações ou alvos?\n",
    "\n",
    "## Outros Datasets Possíveis\n",
    "\n",
    "Caso este dataset não se adeque aos seus interesses ou caso queira praticar mais após completar este tutorial, estes são alguns outros datasets interessantes que você pode usar utilizar com Bokeh e Pandas:\n",
    "\n",
    "- [Julgamentos de Feitiçaria na Escócia](https://data.world/history/scottish-witchcraft/): um conjunto de dados de várias tabelas sobre mais de 4.000 pessoas acusadas de bruxaria entre 1536 e 1736.\n",
    "\n",
    "- [Eventos de Agitação Civil](https://data.world/history/civil-unrest-event-data): Uma única tabela que cataloga mais de 60.000 eventos de agitação civil em todo o mundo desde o fim da Segunda Guerra Mundial.\n",
    "\n",
    "- [Comércio Transatlântico de Escravos](https://www.slavevoyages.org/voyage/database): Dados tabulares pesquisáveis e personalizáveis sobre 36.000 viagens de escravos que transporaram mais de 10 milhões de escravos dos séculos XVI a XIX.\n",
    "  \n",
    "Todos os três datasets contêm dados quantitativos, qualitativos e temporais comparáveis aos encontrados no dataset THOR. Os datasets de Eventos de Agitação Civil e Comércio Transatlântico de Escravos possue dados espaciais, embora isso esteja faltando nos dados sobre Julgamento de Feitiçaria na Escócia."
   ]
  },
  {
   "cell_type": "markdown",
   "metadata": {},
   "source": [
    "# Iniciando\n",
    "\n",
    "## Pré-requisitos\n",
    "\n",
    "Esse tutorial pode ser completado utilizando qualquer sistema operacional. Ele requer o Python 3 e um navegador web. Você pode utilizar qualquer editor de texto para escrever seu código. \n",
    "\n",
    "Esse tutorial assume que você possui conhecimentos básicos da linguagem Python e suas estruturas de dados, particularmente listas.\n",
    "\n",
    "Caso você trabalhe no Python 2, será necessário criar um ambiente virtual para o Python 3; e, mesmo que você trabalhe no Python 3, criar um ambiente virtual para este tutorial é uma boa prática.\n",
    "\n",
    "## Criando um Ambiente Virtual de Python 3\n",
    "\n",
    "Um ambiente virtual Python é um ambiente isolado no qual você pode instalar bibliotecas e executar código. Vários ambientes virtuais diferentes podem ser criados para trabalhar com diferentes versões de Python e bibliotecas Python. Ambientes virtuais são úteis porque garantem que você tenha instaladas somente as bibliotecas necessárias e que você não precise lidar com conflitos de versão. Um benefício adicional dos ambientes virtuais é que você pode compartilhá-los com outras pessoas de modo que você saiba que seu código poderá ser executado em outra máquina.\n",
    "\n",
    "[Miniconda](https://conda.io/miniconda.html) é uma forma fácil de criar ambientes virtuais que é simples de instalar em qualquer sistema operacional. Você deve instalar o Miniconda e seguir as instruções para [Windows](https://conda.io/projects/conda/en/latest/user-guide/install/windows.html), [Mac](https://conda.io/projects/conda/en/latest/user-guide/install/macos.html), ou [Linux](https://conda.io/projects/conda/en/latest/user-guide/install/linux.html) conforme apropriado para seu sistema operacional.\n",
    "\n",
    "Uma vez que tenha feito o download e instalado o Miniconda em seu sistema operacional, é possível verificar se ele está instalado corretamente abrindo uma linha de comando e digitando:\n",
    "\n",
    "```python\n",
    "conda info\n",
    "```"
   ]
  },
  {
   "cell_type": "markdown",
   "metadata": {},
   "source": [
    "Se você visualizar uma informação de versão similar a que se segue, então Miniconda foi instalado corretamente.\n",
    "\n",
    "```python\n",
    "Current conda install:\n",
    "               platform : linux-64\n",
    "          conda version : 4.3.29\n",
    "          ...\n",
    "```"
   ]
  },
  {
   "cell_type": "markdown",
   "metadata": {},
   "source": [
    "Utilizaremos o Miniconda para criar um ambiente virtual de Python 3 chamado *bokeh-amb* para esse tutorial. Na linha de comando, digite o seguinte:\n",
    "\n",
    "```python\n",
    "conda create --name bokeh-amb python=3.6\n",
    "```"
   ]
  },
  {
   "cell_type": "markdown",
   "metadata": {},
   "source": [
    "Diga 'yes' quando for solicitado a instalar novos pacotes.\n",
    "\n",
    "Para ativar o ambiente virtual *bokeh-amb*, o comando é um pouco diferente dependendo do sistema operacional.\n",
    "\n",
    "```python\n",
    "source activate bokeh-amb #For Linux/MacOS\n",
    "activate bokeh-amb #For Windows\n",
    "```"
   ]
  },
  {
   "cell_type": "markdown",
   "metadata": {},
   "source": [
    "Sua linha de comando deve agora mostrar que você está no ambiente virtual *bokeh-amb*. \n",
    "\n",
    "Quando quiser deixar o ambiente virtual, basta digitar o comando apropriado para o seu sistema operacional.\n",
    "\n",
    "```python\n",
    "source deactivate #For Linux/MacOS\n",
    "deactivate #For Windows\n",
    "```"
   ]
  },
  {
   "cell_type": "markdown",
   "metadata": {},
   "source": [
    "## Instalando pacotes\n",
    "\n",
    "No seu ambiente virtual *bokeh-amb*, já ativado, emita o seguinte comando para instalar os pacotes Python para este tutorial.\n",
    "\n",
    "```python\n",
    "pip install pandas bokeh pyproj\n",
    "```"
   ]
  },
  {
   "cell_type": "markdown",
   "metadata": {},
   "source": [
    "Para obter as versões exatas utilizadas para escrever esse tutorial (nota: essas podem não ser as versões mais recentes de cada um dos pacotes do Python) você pode passar os seguintes números de versão ao `pip`.\n",
    "\n",
    "```python\n",
    "pip install pandas==0.23.1 bokeh==0.13.0 pyproj==1.9.5.1\n",
    "```"
   ]
  },
  {
   "cell_type": "markdown",
   "metadata": {},
   "source": [
    "## Executando Exemplos de Código\n",
    "\n",
    "É mais fácil criar primeiro um único diretório e salvar cada exemplo de código como *.py* dentro dele. Quando estiver pronto para executar o arquivo de código, navegue até esse diretório no prompt de comando e certifique-se de que seu ambiente virtual esteja ativado. Lembre-se de que você sempre pode ativar o ambiente com o seguinte comando apropriado para o seu sistema operacional.\n",
    "\n",
    "```python\n",
    "source activate bokeh-amb #For Linux/MacOS\n",
    "activate bokeh-amb #For Windows\n",
    "```"
   ]
  },
  {
   "cell_type": "markdown",
   "metadata": {},
   "source": [
    "Dentro do ambiente virtual, você pode executar o código digitando:\n",
    "\n",
    "```python\n",
    "python nome-do-arquivo.py\n",
    "```"
   ]
  },
  {
   "cell_type": "markdown",
   "metadata": {},
   "source": [
    "Um Jupyter Notebook contendo o código utilizado neste tutorial também está [disponível](https://raw.githubusercontent.com/programminghistorian/ph-submissions/gh-pages/assets/visualizing-with-bokeh/visualizing-with-bokeh.ipynb) no caso de você preferir trabalhar ao longo do tutorial sem instalar um ambiente virtual. Você pode aprender mais sobre Jupyter Notebook [aqui](http://jupyter.org). Caso tenha criado um ambiente virtual utilizando Miniconda, como discutido acima, você pode instalar Jupyter Notebook no ambiente digitando `conda install jupyter`."
   ]
  },
  {
   "cell_type": "markdown",
   "metadata": {},
   "source": [
    "# O Básico de Bokeh\n",
    "\n",
    "## O que é Bokeh?"
   ]
  }
 ],
 "metadata": {
  "kernelspec": {
   "display_name": "Python 3",
   "language": "python",
   "name": "python3"
  },
  "language_info": {
   "codemirror_mode": {
    "name": "ipython",
    "version": 3
   },
   "file_extension": ".py",
   "mimetype": "text/x-python",
   "name": "python",
   "nbconvert_exporter": "python",
   "pygments_lexer": "ipython3",
   "version": "3.8.8"
  }
 },
 "nbformat": 4,
 "nbformat_minor": 4
}
