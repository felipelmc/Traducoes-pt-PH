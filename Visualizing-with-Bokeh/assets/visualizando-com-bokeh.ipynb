{
 "cells": [
  {
   "cell_type": "markdown",
   "metadata": {},
   "source": [
    "Nota: Todas as chamadas de output_file() foram substituídas por output_notebook() para que os plots sejam apresentados em linha."
   ]
  },
  {
   "cell_type": "markdown",
   "metadata": {},
   "source": [
    "# O Básico de Bokeh\n",
    "\n",
    "## Seu Primeiro Plot"
   ]
  },
  {
   "cell_type": "code",
   "execution_count": null,
   "metadata": {},
   "outputs": [],
   "source": [
    "from bokeh.plotting import figure, output_notebook, show\n",
    "from bokeh.models.tools import LassoSelectTool, CrosshairTool, HoverTool\n",
    "output_notebook()\n",
    "\n",
    "x = [1, 3, 5, 7]\n",
    "y = [2, 4, 6, 8]\n",
    "\n",
    "p = figure()\n",
    "\n",
    "p.circle(x, y, size=10, color='red', legend='círculo')\n",
    "p.line(x, y, color='blue', legend='linha')\n",
    "p.triangle(y, x, color='gold', size=10, legend='triângulo')\n",
    "\n",
    "p.legend.click_policy='hide'\n",
    "\n",
    "show(p)"
   ]
  },
  {
   "cell_type": "markdown",
   "metadata": {},
   "source": [
    "# Bokeh e Pandas: Explorando o Dataset WWII THOR\n",
    "\n",
    "## Carregando Dados no Pandas"
   ]
  },
  {
   "cell_type": "code",
   "execution_count": null,
   "metadata": {},
   "outputs": [],
   "source": [
    "import pandas as pd\n",
    "\n",
    "df = pd.read_csv('thor_wwii.csv')\n",
    "print(df)"
   ]
  },
  {
   "cell_type": "code",
   "execution_count": null,
   "metadata": {},
   "outputs": [],
   "source": [
    "df.columns.tolist()"
   ]
  },
  {
   "cell_type": "markdown",
   "metadata": {},
   "source": [
    "## O Bokeh ColumnDataSource"
   ]
  },
  {
   "cell_type": "code",
   "execution_count": null,
   "metadata": {},
   "outputs": [],
   "source": [
    "import pandas as pd\n",
    "from bokeh.plotting import figure, output_notebook, show\n",
    "from bokeh.models import ColumnDataSource\n",
    "from bokeh.models.tools import HoverTool\n",
    "output_notebook()\n",
    "\n",
    "df = pd.read_csv('thor_wwii.csv')\n",
    "\n",
    "amostra = df.sample(50)\n",
    "fonte = ColumnDataSource(amostra)\n",
    "\n",
    "p = figure()\n",
    "p.circle(x='TOTAL_TONS', y='AC_ATTACKING',\n",
    "         source=fonte,\n",
    "         size=10, color='green')\n",
    "\n",
    "p.title.text = 'Aeronave de Ataque e Munições Lançadas'\n",
    "p.xaxis.axis_label = 'Toneladas de Munições Lançadas'\n",
    "p.yaxis.axis_label = 'Número de Aeronaves de Ataque'\n",
    "\n",
    "hover = HoverTool()\n",
    "hover.tooltips=[\n",
    "    ('Data do Ataque', '@MSNDATE'),\n",
    "    ('Aeronave Atacante', '@AC_ATTACKING'),\n",
    "    ('Toneladas de Munições', '@TOTAL_TONS'),\n",
    "    ('Tipo de Aeronave', '@AIRCRAFT_NAME')\n",
    "]\n",
    "\n",
    "p.add_tools(hover)\n",
    "\n",
    "show(p)"
   ]
  },
  {
   "cell_type": "markdown",
   "metadata": {},
   "source": [
    "# Dados Categóricos e Gráficos de Barra: Munições Lançadas por País"
   ]
  },
  {
   "cell_type": "code",
   "execution_count": null,
   "metadata": {},
   "outputs": [],
   "source": [
    "import pandas as pd\n",
    "from bokeh.plotting import figure, output_notebook, show\n",
    "from bokeh.models import ColumnDataSource\n",
    "from bokeh.models.tools import HoverTool\n",
    "\n",
    "from bokeh.palettes import Spectral5\n",
    "from bokeh.transform import factor_cmap\n",
    "output_notebook()\n",
    "\n",
    "df = pd.read_csv('thor_wwii.csv')\n",
    "\n",
    "agrupado = df.groupby('COUNTRY_FLYING_MISSION')['TOTAL_TONS', 'TONS_HE', 'TONS_IC', 'TONS_FRAG'].sum()\n",
    "\n",
    "agrupado = agrupado / 1000\n",
    "\n",
    "fonte = ColumnDataSource(agrupado)\n",
    "paises = fonte.data['COUNTRY_FLYING_MISSION'].tolist()\n",
    "p = figure(x_range=paises)\n",
    "\n",
    "mapa_de_cores = factor_cmap(field_name='COUNTRY_FLYING_MISSION',\n",
    "                    palette=Spectral5, factors=paises)\n",
    "\n",
    "p.vbar(x='COUNTRY_FLYING_MISSION', top='TOTAL_TONS', source=fonte, width=0.70, color=mapa_de_cores)\n",
    "\n",
    "p.title.text ='Munições Lançadas por País Aliado'\n",
    "p.xaxis.axis_label = 'País'\n",
    "p.yaxis.axis_label = 'Quilotons de Munição'\n",
    "\n",
    "hover = HoverTool()\n",
    "hover.tooltips = [\n",
    "    (\"Totais\", \"@TONS_HE Explosivo / @TONS_IC Incendiário / @TONS_FRAG Fragmentação\")]\n",
    "\n",
    "hover.mode = 'vline'\n",
    "\n",
    "p.add_tools(hover)\n",
    "\n",
    "show(p)"
   ]
  },
  {
   "cell_type": "markdown",
   "metadata": {},
   "source": [
    "# Gráficos de Barras Empilhadas e Dados de Subamostragem: Tipos de Munições Lançadas por País"
   ]
  },
  {
   "cell_type": "code",
   "execution_count": null,
   "metadata": {},
   "outputs": [],
   "source": [
    "import pandas as pd\n",
    "from bokeh.plotting import figure, output_notebook, show\n",
    "from bokeh.models import ColumnDataSource\n",
    "from bokeh.palettes import Spectral3\n",
    "output_notebook()\n",
    "\n",
    "df = pd.read_csv('thor_wwii.csv')\n",
    "\n",
    "filtro = df['COUNTRY_FLYING_MISSION'].isin(('USA','GREAT BRITAIN'))\n",
    "df = df[filtro]\n",
    "\n",
    "agrupado = df.groupby('COUNTRY_FLYING_MISSION')['TONS_IC', 'TONS_FRAG', 'TONS_HE'].sum()\n",
    "\n",
    "#convertemos para quilotons novamente\n",
    "agrupado = agrupado / 1000\n",
    "\n",
    "fonte = ColumnDataSource(agrupado)\n",
    "paises = fonte.data['COUNTRY_FLYING_MISSION'].tolist()\n",
    "p = figure(x_range=paises)\n",
    "\n",
    "p.vbar_stack(stackers=['TONS_HE', 'TONS_FRAG', 'TONS_IC'],\n",
    "             x='COUNTRY_FLYING_MISSION', source=fonte,\n",
    "             legend = ['Explosivo', 'Fragmentação', 'Incendiário'],\n",
    "             width=0.5, color=Spectral3)\n",
    "\n",
    "p.title.text ='Tipos de Munições Lançadas por País Aliado'\n",
    "p.legend.location = 'top_left'\n",
    "\n",
    "p.xaxis.axis_label = 'País'\n",
    "p.xgrid.grid_line_color = None\t#remove as linhas de grade de x\n",
    "\n",
    "p.yaxis.axis_label = 'Quilotons de Munição'\n",
    "\n",
    "show(p)"
   ]
  },
  {
   "cell_type": "markdown",
   "metadata": {},
   "source": [
    "# Séries Temporais e Anotações: Operações de Bombardeio ao longo do Tempo"
   ]
  },
  {
   "cell_type": "code",
   "execution_count": null,
   "metadata": {},
   "outputs": [],
   "source": [
    "import pandas as pd\n",
    "from bokeh.plotting import figure, output_notebook, show\n",
    "from bokeh.models import ColumnDataSource\n",
    "from bokeh.palettes import Spectral3\n",
    "output_notebook()\n",
    "\n",
    "df = pd.read_csv('thor_wwii.csv')\n",
    "\n",
    "#certifique-se de que MSNDATE tenha um formato de data\n",
    "df['MSNDATE'] = pd.to_datetime(df['MSNDATE'], format='%m/%d/%Y')\n",
    "\n",
    "agrupado = df.groupby('MSNDATE')['TOTAL_TONS', 'TONS_IC', 'TONS_FRAG'].sum()\n",
    "agrupado = agrupado/1000\n",
    "\n",
    "fonte = ColumnDataSource(agrupado)\n",
    "\n",
    "p = figure(x_axis_type='datetime')\n",
    "\n",
    "p.line(x='MSNDATE', y='TOTAL_TONS', line_width=2, source=fonte, legend='Todas as munições')\n",
    "p.line(x='MSNDATE', y='TONS_FRAG', line_width=2, source=fonte, color=Spectral3[1], legend='Fragmentação')\n",
    "p.line(x='MSNDATE', y='TONS_IC', line_width=2, source=fonte, color=Spectral3[2], legend='Incendiária')\n",
    "\n",
    "p.yaxis.axis_label = 'Quilotons de Munições Lançadas'\n",
    "\n",
    "show(p)"
   ]
  },
  {
   "cell_type": "markdown",
   "metadata": {},
   "source": [
    "## Reamostragem de Dados de Série Temporal"
   ]
  },
  {
   "cell_type": "code",
   "execution_count": null,
   "metadata": {},
   "outputs": [],
   "source": [
    "import pandas as pd\n",
    "from bokeh.plotting import figure, output_notebook, show\n",
    "from bokeh.models import ColumnDataSource\n",
    "from bokeh.palettes import Spectral3\n",
    "output_notebook()\n",
    "\n",
    "df = pd.read_csv('thor_wwii.csv')\n",
    "\n",
    "#certifique-se de que MSNDATE tenha um formato de data\n",
    "df['MSNDATE'] = pd.to_datetime(df['MSNDATE'], format='%m/%d/%Y')\n",
    "\n",
    "agrupado = df.groupby(pd.Grouper(key='MSNDATE', freq='M'))['TOTAL_TONS', 'TONS_IC', 'TONS_FRAG'].sum()\n",
    "agrupado = agrupado/1000\n",
    "\n",
    "fonte = ColumnDataSource(agrupado)\n",
    "\n",
    "p = figure(x_axis_type='datetime')\n",
    "\n",
    "p.line(x='MSNDATE', y='TOTAL_TONS', line_width=2, source=fonte, legend='Todas as munições')\n",
    "p.line(x='MSNDATE', y='TONS_FRAG', line_width=2, source=fonte, color=Spectral3[1], legend='Fragmentação')\n",
    "p.line(x='MSNDATE', y='TONS_IC', line_width=2, source=fonte, color=Spectral3[2], legend='Incendiária')\n",
    "\n",
    "p.yaxis.axis_label = 'Quilotons de Munições Lançadas'\n",
    "\n",
    "show(p)"
   ]
  },
  {
   "cell_type": "markdown",
   "metadata": {},
   "source": [
    "# Anotando Tendências em Gráficos"
   ]
  },
  {
   "cell_type": "code",
   "execution_count": null,
   "metadata": {},
   "outputs": [],
   "source": [
    "import pandas as pd\n",
    "from bokeh.plotting import figure, output_notebook, show\n",
    "from bokeh.models import ColumnDataSource\n",
    "from datetime import datetime\n",
    "from bokeh.palettes import Spectral3\n",
    "output_notebook()\n",
    "\n",
    "df = pd.read_csv('thor_wwii.csv')\n",
    "\n",
    "#filtrar para o Teatro Europeu de Operações\n",
    "filtro = df['THEATER']=='ETO'\n",
    "df = df[filtro]\n",
    "\n",
    "df['MSNDATE'] = pd.to_datetime(df['MSNDATE'], format='%m/%d/%Y')\n",
    "agrupado = df.groupby(pd.Grouper(key='MSNDATE', freq='M'))['TOTAL_TONS', 'TONS_IC', 'TONS_FRAG'].sum()\n",
    "agrupado = agrupado / 1000\n",
    "\n",
    "fonte = ColumnDataSource(agrupado)\n",
    "\n",
    "p = figure(x_axis_type=\"datetime\")\n",
    "\n",
    "p.line(x='MSNDATE', y='TOTAL_TONS', line_width=2, source=fonte, legend='Todas as Munições')\n",
    "p.line(x='MSNDATE', y='TONS_FRAG', line_width=2, source=fonte, color=Spectral3[1], legend='Fragmentação')\n",
    "p.line(x='MSNDATE', y='TONS_IC', line_width=2, source=fonte, color=Spectral3[2], legend='Incendiária')\n",
    "\n",
    "p.title.text = 'Teatro Europeu de Operações'\n",
    "\n",
    "p.yaxis.axis_label = 'Quilotons de Munições Lançadas'\n",
    "\n",
    "show(p)"
   ]
  },
  {
   "cell_type": "code",
   "execution_count": null,
   "metadata": {},
   "outputs": [],
   "source": [
    "import pandas as pd\n",
    "from bokeh.plotting import figure, output_notebook, show\n",
    "from bokeh.models import ColumnDataSource\n",
    "from bokeh.models import BoxAnnotation\n",
    "from datetime import datetime\n",
    "from bokeh.palettes import Spectral3\n",
    "output_notebook()\n",
    "\n",
    "df = pd.read_csv('thor_wwii.csv')\n",
    "\n",
    "#filtrar para o Teatro Europeu de Operações\n",
    "filtro = df['THEATER']=='ETO'\n",
    "df = df[filtro]\n",
    "\n",
    "df['MSNDATE'] = pd.to_datetime(df['MSNDATE'], format='%m/%d/%Y')\n",
    "agrupado = df.groupby(pd.Grouper(key='MSNDATE', freq='M'))['TOTAL_TONS', 'TONS_IC', 'TONS_FRAG'].sum()\n",
    "agrupado = agrupado / 1000\n",
    "\n",
    "fonte = ColumnDataSource(agrupado)\n",
    "\n",
    "p = figure(x_axis_type=\"datetime\")\n",
    "\n",
    "p.line(x='MSNDATE', y='TOTAL_TONS', line_width=2, source=fonte, legend='Todas as Munições')\n",
    "p.line(x='MSNDATE', y='TONS_FRAG', line_width=2, source=fonte, color=Spectral3[1], legend='Fragmentação')\n",
    "p.line(x='MSNDATE', y='TONS_IC', line_width=2, source=fonte, color=Spectral3[2], legend='Incendiária')\n",
    "\n",
    "p.title.text = 'Teatro Europeu de Operações'\n",
    "\n",
    "p.yaxis.axis_label = 'Quilotons de Munições Lançadas'\n",
    "\n",
    "caixa_esquerda = pd.to_datetime('6-6-1944')\n",
    "caixa_direita = pd.to_datetime('16-12-1944')\n",
    "\n",
    "caixa = BoxAnnotation(left=caixa_esquerda, right=caixa_direita,\n",
    "                    line_width=1, line_color='black', line_dash='dashed',\n",
    "                    fill_alpha=0.2, fill_color='orange')\n",
    "\n",
    "p.add_layout(caixa)\n",
    "\n",
    "show(p)"
   ]
  },
  {
   "cell_type": "markdown",
   "metadata": {},
   "source": [
    "# Dados Espaciais: Mapeando Localização de Alvos"
   ]
  },
  {
   "cell_type": "code",
   "execution_count": null,
   "metadata": {},
   "outputs": [],
   "source": [
    "import pandas as pd\n",
    "from bokeh.plotting import figure, output_notebook, show\n",
    "from bokeh.models import ColumnDataSource, Range1d\n",
    "from bokeh.layouts import layout\n",
    "from bokeh.palettes import Spectral3\n",
    "from bokeh.tile_providers import get_provider\n",
    "from pyproj import Transformer\n",
    "output_notebook()\n",
    "\n",
    "# função auxiliar para converter latitude/longitude em easting/northing para mapeamento\n",
    "# isso depende de funções da biblioteca pyproj\n",
    "\n",
    "\n",
    "def LongLat_para_EN(long, lat):\n",
    "    try:\n",
    "        conversor = Transformer.from_crs('epsg:4326', 'epsg:3857')\n",
    "        easting, northing = conversor.transform(long, lat)\n",
    "        return easting, northing\n",
    "    except:\n",
    "        return None, None\n",
    "\n",
    "\n",
    "df = pd.read_csv(\"thor_wwii.csv\")\n",
    "\n",
    "\n",
    "df['E'], df['N'] = zip(\n",
    "    *df.apply(lambda x: LongLat_para_EN(x['TGT_LONGITUDE'], x['TGT_LATITUDE']), axis=1))\n",
    "\n",
    "agrupado = df.groupby(['E', 'N'])[['TONS_IC', 'TONS_FRAG']].sum().reset_index()\n",
    "\n",
    "filtro = agrupado['TONS_FRAG'] != 0\n",
    "agrupado = agrupado[filtro]\n",
    "\n",
    "fonte = ColumnDataSource(agrupado)\n",
    "\n",
    "esquerda = -2150000\n",
    "direita = 18000000\n",
    "inferior = -5300000\n",
    "superior = 11000000\n",
    "\n",
    "p = figure(x_range=Range1d(esquerda, direita), y_range=Range1d(inferior, superior))\n",
    "\n",
    "provedor = get_provider('CARTODBPOSITRON')\n",
    "p.add_tile(provedor)\n",
    "\n",
    "p.circle(x='E', y='N', source=fonte, line_color='grey', fill_color='yellow')\n",
    "\n",
    "p.axis.visible = False\n",
    "\n",
    "show(p)"
   ]
  }
 ],
 "metadata": {
  "kernelspec": {
   "display_name": "Python 3",
   "language": "python",
   "name": "python3"
  },
  "language_info": {
   "codemirror_mode": {
    "name": "ipython",
    "version": 3
   },
   "file_extension": ".py",
   "mimetype": "text/x-python",
   "name": "python",
   "nbconvert_exporter": "python",
   "pygments_lexer": "ipython3",
   "version": "3.8.8"
  }
 },
 "nbformat": 4,
 "nbformat_minor": 2
}
